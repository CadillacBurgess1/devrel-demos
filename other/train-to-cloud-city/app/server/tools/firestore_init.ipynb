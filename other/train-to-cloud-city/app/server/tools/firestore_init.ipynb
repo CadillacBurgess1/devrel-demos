{
 "cells": [
  {
   "cell_type": "code",
   "execution_count": 37,
   "metadata": {},
   "outputs": [],
   "source": [
    "PROJECT = \"train-to-cloud-city-4\"\n",
    "BASE = \"http://localhost:8000/\""
   ]
  },
  {
   "cell_type": "code",
   "execution_count": 38,
   "metadata": {},
   "outputs": [],
   "source": [
    "import requests\n",
    "import json\n",
    "from urllib.parse import urljoin\n",
    "\n",
    "from google.cloud import firestore\n",
    "db = firestore.Client(project=PROJECT)\n"
   ]
  },
  {
   "cell_type": "code",
   "execution_count": 42,
   "metadata": {},
   "outputs": [
    {
     "data": {
      "text/plain": [
       "update_time {\n",
       "  seconds: 1711142482\n",
       "  nanos: 885573000\n",
       "}"
      ]
     },
     "execution_count": 42,
     "metadata": {},
     "output_type": "execute_result"
    }
   ],
   "source": []
  },
  {
   "cell_type": "code",
   "execution_count": 14,
   "metadata": {},
   "outputs": [
    {
     "name": "stdout",
     "output_type": "stream",
     "text": [
      "{'slug': 'cloud-run', 'name': 'Cloud Run', 'description': 'Serverless for containerized applications', 'doc_url': 'https://cloud.google.com/run/docs'}\n",
      "{'Compute': ['cloud-functions', 'app-engine', 'cloud-run', 'cloud-run-for-anthos', 'gke', 'compute-engine', 'bare-metal-solution', 'preemptible-vms', 'sole-tenant-nodes', 'vmware-engine'], 'Storage': ['cloud-filestore', 'cloud-storage', 'local-ssd', 'persistent-disk'], 'Database': ['alloydb', 'cloud-bigtable', 'cloud-firestore', 'cloud-memorystore', 'cloud-sql', 'cloud-sql-insights', 'cloud-spanner'], 'Data Analytics': ['bigquery', 'bigquery-bi-engine', 'bigquery-data-transfer-service', 'bigquery-dts', 'bigquery-gis', 'bigquery-ml', 'cloud-composer', 'cloud-data-fusion', 'connected-sheets', 'data-catalog', 'data-studio', 'dataflow', 'dataplex', 'dataprep-by-trifacta', 'dataproc', 'datastream', 'looker', 'public-datasets'], 'AI/ML': ['automl', 'cloud-tpu', 'cloud-translation', 'cloud-vision', 'contact-center-ai', 'deep-learning-containers', 'deep-learning-vm-images', 'dialogflow', 'document-ai', 'speech-to-text', 'talent-solutions', 'text-to-speech', 'vertex-ai', 'vertex-ai-data-labeling', 'vertex-ai-edge-manager', 'vertex-ai-feature-store', 'vertex-ai-matching-engine', 'vertex-ai-model-monitoring', 'vertex-ai-pipelines', 'vertex-ai-predictions', 'vertex-ai-tensorboard', 'vertex-ai-training', 'vertex-ai-vizier', 'vertex-ai-workbench', 'vertex-explainable-ai', 'vertex-ml-metadata', 'video-intelligence-api'], 'Networking': ['anthos-service-mesh', 'carrier-peering', 'cloud-armor', 'cloud-cdn', 'cloud-dns', 'cloud-domains', 'cloud-ids', 'cloud-load-balancing', 'cloud-nat', 'cloud-router', 'cloud-vpn', 'dedicated-interconnect', 'direct-peering', 'media-cdn', 'network-connectivity-center', 'network-intelligence-center', 'network-service-tiers', 'network-telemetry', 'packet-mirroring', 'partner-interconnect', 'private-service-connect', 'service-directory', 'traffic-director', 'transcoder-api', 'virtual-private-cloud', 'vpc-service-controls'], 'DevOps CI/CD': ['artifact-registry', 'cloud-build', 'cloud-deploy', 'cloud-source-repositories', 'container-analysis', 'container-registry'], 'Identity and Security': ['access-context-manager', 'access-transparency', 'assured-workloads', 'beyondcorp-enterprise', 'binary-authorization', 'certificate-authority-service', 'chronicle', 'cloud-asset-inventory', 'cloud-audit-logs', 'cloud-data-loss-prevention', 'cloud-ekm', 'cloud-hsm', 'cloud-iam', 'cloud-identity', 'cloud-identity-aware-proxy', 'cloud-kms', 'confidential-computing', 'context-aware-access', 'event-threat-detection', 'identity-platform', 'managed-service-for-microsoft-active-directory', 'resource-manager', 'risk-manager', 'secret-manager', 'security-command-center', 'security-key-enforcement', 'shielded-vms', 'titan-security-key', 'vpc-service-controls', 'virustotal', 'web-security-scanner', 'recaptcha-enterprise'], 'Management Tools': ['cloud-apis', 'cloud-billing', 'cloud-billing-api', 'cloud-console', 'cloud-deployment-manager', 'cloud-mobile-app', 'private-catalog', 'vm-manager'], 'Application Integration': ['cloud-scheduler', 'cloud-tasks', 'eventarc', 'pubsub', 'workflows'], 'Gaming': ['google-cloud-game-servers'], 'Mobile (Firebase)': ['cloud-firestore', 'cloud-functions-for-firebase', 'cloud-storage-for-firebase', 'crashlytics', 'firebase-ab-testing', 'firebase-app-distribution', 'firebase-authentication', 'firebase-cloud-messaging', 'firebase-dynamic-links', 'firebase-extensions', 'firebase-hosting', 'firebase-in-app-messaging', 'firebase-performance-monitoring', 'firebase-predictions', 'firebase-realtime-database', 'firebase-remote-config', 'firebase-test-lab', 'google-analytics-for-firebase', 'ml-kit-for-firebase'], 'Google Workspace': ['amp-for-email', 'admin-sdk', 'apps-script', 'calendar-api', 'classroom-api', 'cloud-search', 'docs-api', 'drive-api', 'drive-activity-api', 'drive-picker', 'email-markup', 'gmail-api', 'google-chat-api', 'google-workspace-add-ons', 'google-workspace-marketplace', 'people-api', 'sheets-api', 'slides-api', 'task-api', 'vault-api'], 'Google Maps Platform': ['directions-api', 'distance-matrix-api', 'geocoding-api', 'geolocation-api', 'maps-embed-api', 'maps-javascript-api', 'maps-sdk-for-android', 'maps-sdk-for-ios', 'maps-sdk-for-unity', 'maps-static-api', 'maps-urls', 'places-api', 'places-library-maps-js-api', 'places-sdk-for-android', 'places-sdk-for-ios', 'roads-api', 'street-view-service', 'street-view-static-api', 'time-zone-api'], 'Hybrid and Multi-cloud': ['anthos', 'anthos-clusters', 'anthos-config-management', 'anthos-service-mesh', 'apigee-api-management', 'cloud-run-for-anthos', 'google-cloud-marketplace-for-anthos', 'migrate-for-anthos', 'operations-suite', 'traffic-director'], 'API Platform and Ecosystems': ['api-analytics', 'api-gateway', 'api-monetization', 'apigee-api-platform', 'apigee-healthcare-apix', 'apigee-hybrid', 'apigee-sense', 'appsheet', 'cloud-endpoints', 'developer-portal', 'google-cloud-marketplace'], 'Healthcare': ['apigee-healthcare-apix', 'cloud-healthcare-api', 'cloud-life-sciences', 'healthcare-natural-language-ai'], 'Operations and Monitoring': ['cloud-logging', 'cloud-monitoring', 'cloud-profiler', 'cloud-trace', 'error-reporting'], 'Developer Tools': ['app-engine-plugins', 'duet-ai', 'cloud-code', 'cloud-code-for-intellij', 'cloud-code-for-vs-code', 'cloud-sdk', 'cloud-shell', 'cloud-tools-for-eclipse', 'cloud-tools-for-visual-studio'], 'Retail': ['recommendations-ai', 'vision-product-search', 'visual-inspection-ai'], 'Migration to Google Cloud': ['bigquery-data-transfer-service', 'cloud-data-transfer', 'cloud-foundation-toolkit', 'database-migration-service', 'kf', 'migrate-for-anthos', 'migrate-for-anthos-and-gke', 'migrate-for-compute-engine', 'migrate-from-amazon-redshift', 'migrate-from-teradata', 'storage-transfer-service', 'transfer-appliance']}\n",
      "{'Compute': ['cloud-functions', 'app-engine', 'cloud-run', 'cloud-run-for-anthos', 'gke', 'compute-engine', 'bare-metal-solution', 'preemptible-vms', 'sole-tenant-nodes', 'vmware-engine'], 'Storage': ['cloud-filestore', 'cloud-storage', 'local-ssd', 'persistent-disk'], 'Database': ['alloydb', 'cloud-bigtable', 'cloud-firestore', 'cloud-memorystore', 'cloud-sql', 'cloud-sql-insights', 'cloud-spanner'], 'Data Analytics': ['bigquery', 'bigquery-bi-engine', 'bigquery-data-transfer-service', 'bigquery-dts', 'bigquery-gis', 'bigquery-ml', 'cloud-composer', 'cloud-data-fusion', 'connected-sheets', 'data-catalog', 'data-studio', 'dataflow', 'dataplex', 'dataprep-by-trifacta', 'dataproc', 'datastream', 'looker', 'public-datasets'], 'AI/ML': ['automl', 'cloud-tpu', 'cloud-translation', 'cloud-vision', 'contact-center-ai', 'deep-learning-containers', 'deep-learning-vm-images', 'dialogflow', 'document-ai', 'speech-to-text', 'talent-solutions', 'text-to-speech', 'vertex-ai', 'vertex-ai-data-labeling', 'vertex-ai-edge-manager', 'vertex-ai-feature-store', 'vertex-ai-matching-engine', 'vertex-ai-model-monitoring', 'vertex-ai-pipelines', 'vertex-ai-predictions', 'vertex-ai-tensorboard', 'vertex-ai-training', 'vertex-ai-vizier', 'vertex-ai-workbench', 'vertex-explainable-ai', 'vertex-ml-metadata', 'video-intelligence-api'], 'Networking': ['anthos-service-mesh', 'carrier-peering', 'cloud-armor', 'cloud-cdn', 'cloud-dns', 'cloud-domains', 'cloud-ids', 'cloud-load-balancing', 'cloud-nat', 'cloud-router', 'cloud-vpn', 'dedicated-interconnect', 'direct-peering', 'media-cdn', 'network-connectivity-center', 'network-intelligence-center', 'network-service-tiers', 'network-telemetry', 'packet-mirroring', 'partner-interconnect', 'private-service-connect', 'service-directory', 'traffic-director', 'transcoder-api', 'virtual-private-cloud', 'vpc-service-controls'], 'DevOps CI/CD': ['artifact-registry', 'cloud-build', 'cloud-deploy', 'cloud-source-repositories', 'container-analysis', 'container-registry'], 'Identity and Security': ['access-context-manager', 'access-transparency', 'assured-workloads', 'beyondcorp-enterprise', 'binary-authorization', 'certificate-authority-service', 'chronicle', 'cloud-asset-inventory', 'cloud-audit-logs', 'cloud-data-loss-prevention', 'cloud-ekm', 'cloud-hsm', 'cloud-iam', 'cloud-identity', 'cloud-identity-aware-proxy', 'cloud-kms', 'confidential-computing', 'context-aware-access', 'event-threat-detection', 'identity-platform', 'managed-service-for-microsoft-active-directory', 'resource-manager', 'risk-manager', 'secret-manager', 'security-command-center', 'security-key-enforcement', 'shielded-vms', 'titan-security-key', 'vpc-service-controls', 'virustotal', 'web-security-scanner', 'recaptcha-enterprise'], 'Management Tools': ['cloud-apis', 'cloud-billing', 'cloud-billing-api', 'cloud-console', 'cloud-deployment-manager', 'cloud-mobile-app', 'private-catalog', 'vm-manager'], 'Application Integration': ['cloud-scheduler', 'cloud-tasks', 'eventarc', 'pubsub', 'workflows'], 'Gaming': ['google-cloud-game-servers'], 'Mobile (Firebase)': ['cloud-firestore', 'cloud-functions-for-firebase', 'cloud-storage-for-firebase', 'crashlytics', 'firebase-ab-testing', 'firebase-app-distribution', 'firebase-authentication', 'firebase-cloud-messaging', 'firebase-dynamic-links', 'firebase-extensions', 'firebase-hosting', 'firebase-in-app-messaging', 'firebase-performance-monitoring', 'firebase-predictions', 'firebase-realtime-database', 'firebase-remote-config', 'firebase-test-lab', 'google-analytics-for-firebase', 'ml-kit-for-firebase'], 'Google Workspace': ['amp-for-email', 'admin-sdk', 'apps-script', 'calendar-api', 'classroom-api', 'cloud-search', 'docs-api', 'drive-api', 'drive-activity-api', 'drive-picker', 'email-markup', 'gmail-api', 'google-chat-api', 'google-workspace-add-ons', 'google-workspace-marketplace', 'people-api', 'sheets-api', 'slides-api', 'task-api', 'vault-api'], 'Google Maps Platform': ['directions-api', 'distance-matrix-api', 'geocoding-api', 'geolocation-api', 'maps-embed-api', 'maps-javascript-api', 'maps-sdk-for-android', 'maps-sdk-for-ios', 'maps-sdk-for-unity', 'maps-static-api', 'maps-urls', 'places-api', 'places-library-maps-js-api', 'places-sdk-for-android', 'places-sdk-for-ios', 'roads-api', 'street-view-service', 'street-view-static-api', 'time-zone-api'], 'Hybrid and Multi-cloud': ['anthos', 'anthos-clusters', 'anthos-config-management', 'anthos-service-mesh', 'apigee-api-management', 'cloud-run-for-anthos', 'google-cloud-marketplace-for-anthos', 'migrate-for-anthos', 'operations-suite', 'traffic-director'], 'API Platform and Ecosystems': ['api-analytics', 'api-gateway', 'api-monetization', 'apigee-api-platform', 'apigee-healthcare-apix', 'apigee-hybrid', 'apigee-sense', 'appsheet', 'cloud-endpoints', 'developer-portal', 'google-cloud-marketplace'], 'Healthcare': ['apigee-healthcare-apix', 'cloud-healthcare-api', 'cloud-life-sciences', 'healthcare-natural-language-ai'], 'Operations and Monitoring': ['cloud-logging', 'cloud-monitoring', 'cloud-profiler', 'cloud-trace', 'error-reporting'], 'Developer Tools': ['app-engine-plugins', 'duet-ai', 'cloud-code', 'cloud-code-for-intellij', 'cloud-code-for-vs-code', 'cloud-sdk', 'cloud-shell', 'cloud-tools-for-eclipse', 'cloud-tools-for-visual-studio'], 'Retail': ['recommendations-ai', 'vision-product-search', 'visual-inspection-ai'], 'Migration to Google Cloud': ['bigquery-data-transfer-service', 'cloud-data-transfer', 'cloud-foundation-toolkit', 'database-migration-service', 'kf', 'migrate-for-anthos', 'migrate-for-anthos-and-gke', 'migrate-for-compute-engine', 'migrate-from-amazon-redshift', 'migrate-from-teradata', 'storage-transfer-service', 'transfer-appliance']}\n",
      "['Compute', 'Storage', 'Database', 'Data Analytics', 'AI/ML', 'Networking', 'DevOps CI/CD', 'Identity and Security', 'Management Tools', 'Application Integration', 'Gaming', 'Mobile (Firebase)', 'Google Workspace', 'Google Maps Platform', 'Hybrid and Multi-cloud', 'API Platform and Ecosystems', 'Healthcare', 'Operations and Monitoring', 'Developer Tools', 'Retail', 'Migration to Google Cloud']\n"
     ]
    }
   ],
   "source": [
    "res = requests.get(urljoin(BASE,\"service/\"))\n",
    "# print(res.text)\n",
    "\n",
    "service_data = json.loads(res.text)\n",
    "print(service_data[\"cloud-run\"])\n",
    "\n",
    "with open(\"../static/category_map.json\", encoding=\"utf-8\") as f:\n",
    "    category_map = json.loads(f.read())\n",
    "\n",
    "with open(\"../static/category_list.json\", encoding=\"utf-8\") as f:\n",
    "    category_list = json.loads(f.read())\n",
    "\n",
    "print(category_map)\n",
    "#category_map = {key.replace(r\"/\", r\" & \"): value for key, value in category_map.items()}\n",
    "print(category_map)\n",
    "print(category_list)\n"
   ]
  },
  {
   "cell_type": "code",
   "execution_count": 15,
   "metadata": {},
   "outputs": [
    {
     "name": "stdout",
     "output_type": "stream",
     "text": [
      "[[<Aggregation alias=field_1, value=248, readtime=2024-03-22 20:06:34.120126+00:00>]]\n",
      "access-context-manager => {'slug': 'access-context-manager', 'description': 'Fine-grained, attribute based access-control', 'doc_url': 'https://cloud.google.com/access-context-manager/docs', 'name': 'Access Context Manager'}\n",
      "access-transparency => {'slug': 'access-transparency', 'description': 'Audit cloud provider access', 'doc_url': 'https://cloud.google.com/cloud-provider-access-management/access-transparency/docs/overview', 'name': 'Access Transparency'}\n",
      "admin-sdk => {'slug': 'admin-sdk', 'description': 'Manage Google Workspace resources', 'doc_url': 'https://developers.google.com/apps-script/advanced/admin-sdk-directory', 'name': 'Admin SDK'}\n",
      "alloydb => {'slug': 'alloydb', 'description': 'Scalable & performant PostgreSQL - compatible DB', 'doc_url': 'https://cloud.google.com/alloydb/docs', 'name': 'AlloyDB'}\n",
      "amp-for-email => {'slug': 'amp-for-email', 'description': 'Dynamic interactive email', 'doc_url': 'https://developers.google.com/apps-script/add-ons/gmail', 'name': 'AMP for Email'}\n",
      "anthos => {'slug': 'anthos', 'description': 'Enterprise hybrid / multi-cloud platform', 'doc_url': 'https://cloud.google.com/anthos/docs/', 'name': 'Anthos'}\n",
      "anthos-clusters => {'slug': 'anthos-clusters', 'description': 'Hybrid / on-prem GKE', 'doc_url': 'https://cloud.google.com/anthos/clusters/docs/on-prem/1.9', 'name': 'Anthos Clusters'}\n"
     ]
    }
   ],
   "source": [
    "\n",
    "services_ref = db.collection(\"services\")\n",
    "\n",
    "q = services_ref.count()\n",
    "#q??\n",
    "print(q.get())\n",
    "\n",
    "docs = services_ref.stream()\n",
    "\n",
    "for i, doc in enumerate(docs):\n",
    "    print(f\"{doc.id} => {doc.to_dict()}\")\n",
    "    if i > 5: break"
   ]
  },
  {
   "cell_type": "code",
   "execution_count": 16,
   "metadata": {},
   "outputs": [],
   "source": [
    "# insert/update service data\n",
    "for key, data in service_data.items():\n",
    "    doc_ref = services_ref.document(key)\n",
    "    doc_ref.set(data)"
   ]
  },
  {
   "cell_type": "code",
   "execution_count": 17,
   "metadata": {},
   "outputs": [
    {
     "name": "stdout",
     "output_type": "stream",
     "text": [
      "[[<Aggregation alias=field_1, value=0, readtime=2024-03-22 20:06:43.619275+00:00>]]\n"
     ]
    }
   ],
   "source": [
    "\n",
    "category_ref = db.collection(\"services_by_category\")\n",
    "\n",
    "q = category_ref.count()\n",
    "#q??\n",
    "print(q.get())\n",
    "\n",
    "docs = category_ref.stream()\n",
    "\n",
    "for i, doc in enumerate(docs):\n",
    "    print(f\"{doc.id} => {doc.to_dict()}\")\n",
    "    if i > 5: break"
   ]
  },
  {
   "cell_type": "code",
   "execution_count": 35,
   "metadata": {},
   "outputs": [
    {
     "name": "stdout",
     "output_type": "stream",
     "text": [
      "{'services': [{'slug': 'cloud-functions', 'name': 'Cloud Functions', 'description': 'Event-driven serverless functions', 'doc_url': 'https://cloud.google.com/functions/docs/'}, {'slug': 'cloud-run', 'name': 'Cloud Run', 'description': 'Serverless for containerized applications', 'doc_url': 'https://cloud.google.com/run/docs'}, {'slug': 'compute-engine', 'name': 'Compute Engine', 'description': 'VMs, GPUs, TPUs, Disks', 'doc_url': 'https://cloud.google.com/compute/docs/'}], 'name': 'Compute'}\n",
      "21\n",
      "8\n"
     ]
    }
   ],
   "source": [
    " # map category data\n",
    "\n",
    "train_services = [\n",
    "\"bigquery\", \"artifact-registry\", \"kubernetes\", \"eventarc\", \"compute-engine\", \n",
    "\"cloud-functions\", \"sql\", \"cloud-build\",\"workflows\", \"cloud-run\", \n",
    "\"secret-manager\", \"cloud-firestore\", \"cloud-storage\", \"cloud-tasks\", \n",
    "\"cloud-scheduler\", \"pubsub\", \"iam\", \"vpc-network\", \"cloud-deploy\"]\n",
    "\n",
    "categories = {}\n",
    "for cat, services in category_map.items():\n",
    "    cat_slug = cat.lower()\n",
    "    cat_slug = cat_slug.replace(\" \", \"-\")\n",
    "    cat_slug = cat_slug.replace(\"/\", \"-\")\n",
    "    #print({\"services\": [service_data[slug] for slug in services]})\n",
    "    categories[cat_slug] = {\"services\": [service_data[slug] for slug in services if slug in train_services]}\n",
    "    categories[cat_slug][\"name\"] = cat\n",
    "    #print(cat, services)\n",
    "\n",
    "print(categories[\"compute\"])\n",
    "print(len(categories))\n",
    "\n",
    "to_delete = []\n",
    "for cat, data in categories.items():\n",
    "    if len(data[\"services\"]) == 0:\n",
    "        to_delete.append(cat)\n",
    "for key in to_delete:\n",
    "    del(categories[key])\n",
    "print(len(categories))\n"
   ]
  },
  {
   "cell_type": "code",
   "execution_count": 36,
   "metadata": {},
   "outputs": [],
   "source": [
    "# insert/update service_by_category data\n",
    "for key, data in categories.items():\n",
    "    doc_ref = category_ref.document(key)\n",
    "    #print(doc_ref)\n",
    "    #print(data)\n",
    "    doc_ref.set(data)"
   ]
  },
  {
   "cell_type": "code",
   "execution_count": 20,
   "metadata": {},
   "outputs": [],
   "source": [
    "# add patterns\n",
    "\n",
    "res = requests.get(urljoin(BASE,\"pattern/\"))\n",
    "# print(res.text)\n",
    "pattern_data = json.loads(res.text)\n",
    "\n",
    "for pattern in pattern_data.values():\n",
    "    # print(pattern)\n",
    "    for checkpoint in pattern[\"checkpoints\"]:\n",
    "        for service in checkpoint[\"satisfying_services\"]:\n",
    "            if not ((service in service_data) or (service in {\"*\"})):\n",
    "                print (f\"'{service}' not found. Referenced in checkpoint: {checkpoint}\")\n",
    "\n",
    "patterns_ref = db.collection(\"patterns\")\n",
    "for data in pattern_data.values():\n",
    "    doc_ref = patterns_ref.document(data[\"slug\"])\n",
    "    doc_ref.set(data)\n"
   ]
  },
  {
   "cell_type": "code",
   "execution_count": 21,
   "metadata": {},
   "outputs": [],
   "source": [
    "# TODO: update to new format without 'world' doc\n",
    "\n",
    "#res = requests.get(urljoin(BASE,\"default_world/\"))\n",
    "# print(res.text)\n",
    "#default_world = json.loads(res.text)\n",
    "#default_world\n",
    "\n",
    "#global_ref = db.collection(\"global\")\n",
    "#global_ref.document(\"world\").set(default_world)\n"
   ]
  },
  {
   "cell_type": "code",
   "execution_count": 22,
   "metadata": {},
   "outputs": [
    {
     "name": "stdout",
     "output_type": "stream",
     "text": [
      "access-context-manager => {'slug': 'access-context-manager', 'description': 'Fine-grained, attribute based access-control', 'doc_url': 'https://cloud.google.com/access-context-manager/docs', 'name': 'Access Context Manager'}\n",
      "access-transparency => {'slug': 'access-transparency', 'description': 'Audit cloud provider access', 'doc_url': 'https://cloud.google.com/cloud-provider-access-management/access-transparency/docs/overview', 'name': 'Access Transparency'}\n",
      "admin-sdk => {'slug': 'admin-sdk', 'description': 'Manage Google Workspace resources', 'doc_url': 'https://developers.google.com/apps-script/advanced/admin-sdk-directory', 'name': 'Admin SDK'}\n",
      "alloydb => {'slug': 'alloydb', 'description': 'Scalable & performant PostgreSQL - compatible DB', 'doc_url': 'https://cloud.google.com/alloydb/docs', 'name': 'AlloyDB'}\n",
      "amp-for-email => {'slug': 'amp-for-email', 'description': 'Dynamic interactive email', 'doc_url': 'https://developers.google.com/apps-script/add-ons/gmail', 'name': 'AMP for Email'}\n",
      "----\n",
      "always_success => {'slug': 'always_success', 'checkpoints': [], 'description': 'Always Successful', 'name': 'Always Success'}\n",
      "high_complexity => {'rfid_tag_id': '3300348D69E3'}\n",
      "low_complexity => {'slug': 'low_complexity', 'description': 'A fairly simple pattern.', 'checkpoints': [{'slug': 'any_service', 'description': 'Absolutely anything is fine', 'satisfying_services': ['*'], 'name': 'Any Service Checkpoint'}], 'name': 'Low Complexity'}\n",
      "medium_complexity => {'slug': 'medium_complexity', 'description': 'A medium complexity pattern. Need to compute something.', 'checkpoints': [{'slug': 'compute', 'description': 'We need some kind of compute.', 'satisfying_services': ['app-engine', 'cloud-functions', 'cloud-run', 'gke', 'compute-engine'], 'name': 'Compute Checkpoint'}], 'name': 'Medium Complexity'}\n",
      "pattern_d => {'slug': 'pattern_d', 'description': 'Host a database backed website', 'checkpoints': [{'slug': 'website', 'description': 'Some way to serve the website to the internet', 'satisfying_services': ['app-engine', 'cloud-functions', 'cloud-run', 'gke', 'compute-engine'], 'name': 'Website'}, {'slug': 'database', 'description': \"The database, it's in the goal description :) \", 'satisfying_services': ['alloydb', 'cloud-bigtable', 'cloud-firestore', 'cloud-memorystore', 'cloud-sql', 'cloud-sql-insights', 'cloud-spanner'], 'name': 'Database'}], 'name': 'Pattern D'}\n"
     ]
    }
   ],
   "source": [
    "docs = services_ref.stream()\n",
    "for i, doc in enumerate(docs):\n",
    "    if i >= 5: break\n",
    "    print(f\"{doc.id} => {doc.to_dict()}\")\n",
    "print(\"----\")\n",
    "    \n",
    "docs = patterns_ref.stream()\n",
    "for i, doc in enumerate(docs):\n",
    "    if i >= 5: break\n",
    "    print(f\"{doc.id} => {doc.to_dict()}\")\n",
    "\n"
   ]
  },
  {
   "cell_type": "code",
   "execution_count": null,
   "metadata": {},
   "outputs": [],
   "source": []
  }
 ],
 "metadata": {
  "kernelspec": {
   "display_name": "Python 3",
   "language": "python",
   "name": "python3"
  },
  "language_info": {
   "codemirror_mode": {
    "name": "ipython",
    "version": 3
   },
   "file_extension": ".py",
   "mimetype": "text/x-python",
   "name": "python",
   "nbconvert_exporter": "python",
   "pygments_lexer": "ipython3",
   "version": "3.10.7"
  }
 },
 "nbformat": 4,
 "nbformat_minor": 2
}
