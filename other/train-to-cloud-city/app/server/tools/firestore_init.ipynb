{
 "cells": [
  {
   "cell_type": "code",
   "execution_count": 58,
   "metadata": {},
   "outputs": [],
   "source": [
    "PROJECT = \"train-to-cloud-city-4\"\n",
    "BASE = \"http://localhost:8000/\""
   ]
  },
  {
   "cell_type": "code",
   "execution_count": 59,
   "metadata": {},
   "outputs": [],
   "source": [
    "import requests\n",
    "import json\n",
    "from urllib.parse import urljoin\n"
   ]
  },
  {
   "cell_type": "code",
   "execution_count": 60,
   "metadata": {},
   "outputs": [
    {
     "name": "stdout",
     "output_type": "stream",
     "text": [
      "{'slug': 'cloud-run', 'name': 'Cloud Run', 'description': 'Serverless for containerized applications', 'doc_url': 'https://cloud.google.com/run/docs'}\n"
     ]
    }
   ],
   "source": [
    "res = requests.get(urljoin(BASE,\"service/\"))\n",
    "# print(res.text)\n",
    "\n",
    "service_data = json.loads(res.text)\n",
    "print(service_data[\"cloud-run\"])\n"
   ]
  },
  {
   "cell_type": "code",
   "execution_count": 61,
   "metadata": {},
   "outputs": [
    {
     "name": "stdout",
     "output_type": "stream",
     "text": [
      "[[<Aggregation alias=field_1, value=248, readtime=2024-02-10 01:27:33.261544+00:00>]]\n",
      "access-context-manager => {'slug': 'access-context-manager', 'description': 'Fine-grained, attribute based access-control', 'doc_url': 'https://cloud.google.com/access-context-manager/docs', 'name': 'Access Context Manager'}\n",
      "access-transparency => {'slug': 'access-transparency', 'description': 'Audit cloud provider access', 'doc_url': 'https://cloud.google.com/cloud-provider-access-management/access-transparency/docs/overview', 'name': 'Access Transparency'}\n",
      "admin-sdk => {'slug': 'admin-sdk', 'description': 'Manage Google Workspace resources', 'doc_url': 'https://developers.google.com/apps-script/advanced/admin-sdk-directory', 'name': 'Admin SDK'}\n",
      "alloydb => {'slug': 'alloydb', 'description': 'Scalable & performant PostgreSQL - compatible DB', 'doc_url': 'https://cloud.google.com/alloydb/docs', 'name': 'AlloyDB'}\n",
      "amp-for-email => {'slug': 'amp-for-email', 'description': 'Dynamic interactive email', 'doc_url': 'https://developers.google.com/apps-script/add-ons/gmail', 'name': 'AMP for Email'}\n",
      "anthos => {'slug': 'anthos', 'description': 'Enterprise hybrid / multi-cloud platform', 'doc_url': 'https://cloud.google.com/anthos/docs/', 'name': 'Anthos'}\n",
      "anthos-clusters => {'slug': 'anthos-clusters', 'description': 'Hybrid / on-prem GKE', 'doc_url': 'https://cloud.google.com/anthos/clusters/docs/on-prem/1.9', 'name': 'Anthos Clusters'}\n"
     ]
    }
   ],
   "source": [
    "from google.cloud import firestore\n",
    "db = firestore.Client(project=PROJECT)\n",
    "\n",
    "services_ref = db.collection(\"services\")\n",
    "\n",
    "q = services_ref.count()\n",
    "#q??\n",
    "print(q.get())\n",
    "\n",
    "docs = services_ref.stream()\n",
    "\n",
    "for i, doc in enumerate(docs):\n",
    "    print(f\"{doc.id} => {doc.to_dict()}\")\n",
    "    if i > 5: break"
   ]
  },
  {
   "cell_type": "code",
   "execution_count": 62,
   "metadata": {},
   "outputs": [],
   "source": [
    "# insert/update service data\n",
    "for key, data in service_data.items():\n",
    "    doc_ref = services_ref.document(key)\n",
    "    doc_ref.set(data)"
   ]
  },
  {
   "cell_type": "code",
   "execution_count": 63,
   "metadata": {},
   "outputs": [],
   "source": [
    "# add patterns\n",
    "\n",
    "res = requests.get(urljoin(BASE,\"pattern/\"))\n",
    "# print(res.text)\n",
    "pattern_data = json.loads(res.text)\n",
    "\n",
    "for pattern in pattern_data.values():\n",
    "    # print(pattern)\n",
    "    for checkpoint in pattern[\"checkpoints\"]:\n",
    "        for service in checkpoint[\"satisfying_services\"]:\n",
    "            if not ((service in service_data) or (service in {\"*\"})):\n",
    "                print (f\"'{service}' not found. Referenced in checkpoint: {checkpoint}\")\n",
    "\n",
    "patterns_ref = db.collection(\"patterns\")\n",
    "for data in pattern_data.values():\n",
    "    doc_ref = patterns_ref.document(data[\"slug\"])\n",
    "    doc_ref.set(data)\n"
   ]
  },
  {
   "cell_type": "code",
   "execution_count": 64,
   "metadata": {},
   "outputs": [
    {
     "data": {
      "text/plain": [
       "update_time {\n",
       "  seconds: 1707528462\n",
       "  nanos: 626107000\n",
       "}"
      ]
     },
     "execution_count": 64,
     "metadata": {},
     "output_type": "execute_result"
    }
   ],
   "source": [
    "res = requests.get(urljoin(BASE,\"default_world/\"))\n",
    "# print(res.text)\n",
    "default_world = json.loads(res.text)\n",
    "default_world\n",
    "\n",
    "global_ref = db.collection(\"global\")\n",
    "global_ref.document(\"world\").set(default_world)\n"
   ]
  },
  {
   "cell_type": "code",
   "execution_count": 65,
   "metadata": {},
   "outputs": [
    {
     "name": "stdout",
     "output_type": "stream",
     "text": [
      "access-context-manager => {'slug': 'access-context-manager', 'description': 'Fine-grained, attribute based access-control', 'doc_url': 'https://cloud.google.com/access-context-manager/docs', 'name': 'Access Context Manager'}\n",
      "access-transparency => {'slug': 'access-transparency', 'description': 'Audit cloud provider access', 'doc_url': 'https://cloud.google.com/cloud-provider-access-management/access-transparency/docs/overview', 'name': 'Access Transparency'}\n",
      "admin-sdk => {'slug': 'admin-sdk', 'description': 'Manage Google Workspace resources', 'doc_url': 'https://developers.google.com/apps-script/advanced/admin-sdk-directory', 'name': 'Admin SDK'}\n",
      "alloydb => {'slug': 'alloydb', 'description': 'Scalable & performant PostgreSQL - compatible DB', 'doc_url': 'https://cloud.google.com/alloydb/docs', 'name': 'AlloyDB'}\n",
      "amp-for-email => {'slug': 'amp-for-email', 'description': 'Dynamic interactive email', 'doc_url': 'https://developers.google.com/apps-script/add-ons/gmail', 'name': 'AMP for Email'}\n",
      "----\n",
      "always_success => {'slug': 'always_success', 'checkpoints': [], 'description': 'Always Successful', 'name': 'Always Success'}\n",
      "low_complexity => {'slug': 'low_complexity', 'description': 'A fairly simple pattern.', 'checkpoints': [{'slug': 'any_service', 'description': 'Absolutely anything is fine', 'satisfying_services': ['*'], 'name': 'Any Service Checkpoint'}], 'name': 'Low Complexity'}\n",
      "medium_complexity => {'slug': 'medium_complexity', 'description': 'A medium complexity pattern. Need to compute something.', 'checkpoints': [{'slug': 'compute', 'description': 'We need some kind of compute.', 'satisfying_services': ['app-engine', 'cloud-functions', 'cloud-run', 'gke', 'compute-engine'], 'name': 'Compute Checkpoint'}], 'name': 'Medium Complexity'}\n"
     ]
    }
   ],
   "source": [
    "docs = services_ref.stream()\n",
    "for i, doc in enumerate(docs):\n",
    "    if i >= 5: break\n",
    "    print(f\"{doc.id} => {doc.to_dict()}\")\n",
    "print(\"----\")\n",
    "    \n",
    "docs = patterns_ref.stream()\n",
    "for i, doc in enumerate(docs):\n",
    "    if i >= 5: break\n",
    "    print(f\"{doc.id} => {doc.to_dict()}\")\n",
    "\n"
   ]
  },
  {
   "cell_type": "code",
   "execution_count": null,
   "metadata": {},
   "outputs": [],
   "source": []
  }
 ],
 "metadata": {
  "kernelspec": {
   "display_name": "Python 3",
   "language": "python",
   "name": "python3"
  },
  "language_info": {
   "codemirror_mode": {
    "name": "ipython",
    "version": 3
   },
   "file_extension": ".py",
   "mimetype": "text/x-python",
   "name": "python",
   "nbconvert_exporter": "python",
   "pygments_lexer": "ipython3",
   "version": "3.10.7"
  }
 },
 "nbformat": 4,
 "nbformat_minor": 2
}
