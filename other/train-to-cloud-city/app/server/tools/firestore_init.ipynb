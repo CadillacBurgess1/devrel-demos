{
 "cells": [
  {
   "cell_type": "code",
   "execution_count": 23,
   "metadata": {},
   "outputs": [],
   "source": [
    "PROJECT = \"train-to-cloud-city-2\"\n",
    "BASE = \"http://localhost:8000/\""
   ]
  },
  {
   "cell_type": "code",
   "execution_count": 24,
   "metadata": {},
   "outputs": [],
   "source": [
    "import requests\n",
    "import json\n",
    "from urllib.parse import urljoin\n",
    "\n",
    "from google.cloud import firestore\n",
    "db = firestore.Client(project=PROJECT)\n"
   ]
  },
  {
   "cell_type": "code",
   "execution_count": null,
   "metadata": {},
   "outputs": [],
   "source": []
  },
  {
   "cell_type": "code",
   "execution_count": 25,
   "metadata": {},
   "outputs": [
    {
     "name": "stdout",
     "output_type": "stream",
     "text": [
      "{'slug': 'cloud-run', 'name': 'Cloud Run', 'description': 'Serverless for containerized applications', 'doc_url': 'https://cloud.google.com/run/docs'}\n",
      "{'Compute': ['cloud-functions', 'app-engine', 'cloud-run', 'cloud-run-for-anthos', 'gke', 'compute-engine', 'bare-metal-solution', 'preemptible-vms', 'sole-tenant-nodes', 'vmware-engine'], 'Storage': ['cloud-filestore', 'cloud-storage', 'local-ssd', 'persistent-disk'], 'Database': ['alloydb', 'cloud-bigtable', 'cloud-firestore', 'cloud-memorystore', 'cloud-sql', 'cloud-sql-insights', 'cloud-spanner'], 'Data Analytics': ['bigquery', 'bigquery-bi-engine', 'bigquery-data-transfer-service', 'bigquery-dts', 'bigquery-gis', 'bigquery-ml', 'cloud-composer', 'cloud-data-fusion', 'connected-sheets', 'data-catalog', 'data-studio', 'dataflow', 'dataplex', 'dataprep-by-trifacta', 'dataproc', 'datastream', 'looker', 'public-datasets'], 'AI/ML': ['automl', 'cloud-tpu', 'cloud-translation', 'cloud-vision', 'contact-center-ai', 'deep-learning-containers', 'deep-learning-vm-images', 'dialogflow', 'document-ai', 'speech-to-text', 'talent-solutions', 'text-to-speech', 'vertex-ai', 'vertex-ai-data-labeling', 'vertex-ai-edge-manager', 'vertex-ai-feature-store', 'vertex-ai-matching-engine', 'vertex-ai-model-monitoring', 'vertex-ai-pipelines', 'vertex-ai-predictions', 'vertex-ai-tensorboard', 'vertex-ai-training', 'vertex-ai-vizier', 'vertex-ai-workbench', 'vertex-explainable-ai', 'vertex-ml-metadata', 'video-intelligence-api'], 'Networking': ['anthos-service-mesh', 'carrier-peering', 'cloud-armor', 'cloud-cdn', 'cloud-dns', 'cloud-domains', 'cloud-ids', 'cloud-load-balancing', 'cloud-nat', 'cloud-router', 'cloud-vpn', 'dedicated-interconnect', 'direct-peering', 'media-cdn', 'network-connectivity-center', 'network-intelligence-center', 'network-service-tiers', 'network-telemetry', 'packet-mirroring', 'partner-interconnect', 'private-service-connect', 'service-directory', 'traffic-director', 'transcoder-api', 'virtual-private-cloud', 'vpc-service-controls'], 'DevOps CI/CD': ['artifact-registry', 'cloud-build', 'cloud-deploy', 'cloud-source-repositories', 'container-analysis', 'container-registry'], 'Identity and Security': ['access-context-manager', 'access-transparency', 'assured-workloads', 'beyondcorp-enterprise', 'binary-authorization', 'certificate-authority-service', 'chronicle', 'cloud-asset-inventory', 'cloud-audit-logs', 'cloud-data-loss-prevention', 'cloud-ekm', 'cloud-hsm', 'cloud-iam', 'cloud-identity', 'cloud-identity-aware-proxy', 'cloud-kms', 'confidential-computing', 'context-aware-access', 'event-threat-detection', 'identity-platform', 'managed-service-for-microsoft-active-directory', 'resource-manager', 'risk-manager', 'secret-manager', 'security-command-center', 'security-key-enforcement', 'shielded-vms', 'titan-security-key', 'vpc-service-controls', 'virustotal', 'web-security-scanner', 'recaptcha-enterprise'], 'Management Tools': ['cloud-apis', 'cloud-billing', 'cloud-billing-api', 'cloud-console', 'cloud-deployment-manager', 'cloud-mobile-app', 'private-catalog', 'vm-manager'], 'Application Integration': ['cloud-scheduler', 'cloud-tasks', 'eventarc', 'pubsub', 'workflows'], 'Gaming': ['google-cloud-game-servers'], 'Mobile (Firebase)': ['cloud-firestore', 'cloud-functions-for-firebase', 'cloud-storage-for-firebase', 'crashlytics', 'firebase-ab-testing', 'firebase-app-distribution', 'firebase-authentication', 'firebase-cloud-messaging', 'firebase-dynamic-links', 'firebase-extensions', 'firebase-hosting', 'firebase-in-app-messaging', 'firebase-performance-monitoring', 'firebase-predictions', 'firebase-realtime-database', 'firebase-remote-config', 'firebase-test-lab', 'google-analytics-for-firebase', 'ml-kit-for-firebase'], 'Google Workspace': ['amp-for-email', 'admin-sdk', 'apps-script', 'calendar-api', 'classroom-api', 'cloud-search', 'docs-api', 'drive-api', 'drive-activity-api', 'drive-picker', 'email-markup', 'gmail-api', 'google-chat-api', 'google-workspace-add-ons', 'google-workspace-marketplace', 'people-api', 'sheets-api', 'slides-api', 'task-api', 'vault-api'], 'Google Maps Platform': ['directions-api', 'distance-matrix-api', 'geocoding-api', 'geolocation-api', 'maps-embed-api', 'maps-javascript-api', 'maps-sdk-for-android', 'maps-sdk-for-ios', 'maps-sdk-for-unity', 'maps-static-api', 'maps-urls', 'places-api', 'places-library-maps-js-api', 'places-sdk-for-android', 'places-sdk-for-ios', 'roads-api', 'street-view-service', 'street-view-static-api', 'time-zone-api'], 'Hybrid and Multi-cloud': ['anthos', 'anthos-clusters', 'anthos-config-management', 'anthos-service-mesh', 'apigee-api-management', 'cloud-run-for-anthos', 'google-cloud-marketplace-for-anthos', 'migrate-for-anthos', 'operations-suite', 'traffic-director'], 'API Platform and Ecosystems': ['api-analytics', 'api-gateway', 'api-monetization', 'apigee-api-platform', 'apigee-healthcare-apix', 'apigee-hybrid', 'apigee-sense', 'appsheet', 'cloud-endpoints', 'developer-portal', 'google-cloud-marketplace'], 'Healthcare': ['apigee-healthcare-apix', 'cloud-healthcare-api', 'cloud-life-sciences', 'healthcare-natural-language-ai'], 'Operations and Monitoring': ['cloud-logging', 'cloud-monitoring', 'cloud-profiler', 'cloud-trace', 'error-reporting'], 'Developer Tools': ['app-engine-plugins', 'duet-ai', 'cloud-code', 'cloud-code-for-intellij', 'cloud-code-for-vs-code', 'cloud-sdk', 'cloud-shell', 'cloud-tools-for-eclipse', 'cloud-tools-for-visual-studio'], 'Retail': ['recommendations-ai', 'vision-product-search', 'visual-inspection-ai'], 'Migration to Google Cloud': ['bigquery-data-transfer-service', 'cloud-data-transfer', 'cloud-foundation-toolkit', 'database-migration-service', 'kf', 'migrate-for-anthos', 'migrate-for-anthos-and-gke', 'migrate-for-compute-engine', 'migrate-from-amazon-redshift', 'migrate-from-teradata', 'storage-transfer-service', 'transfer-appliance']}\n",
      "{'Compute': ['cloud-functions', 'app-engine', 'cloud-run', 'cloud-run-for-anthos', 'gke', 'compute-engine', 'bare-metal-solution', 'preemptible-vms', 'sole-tenant-nodes', 'vmware-engine'], 'Storage': ['cloud-filestore', 'cloud-storage', 'local-ssd', 'persistent-disk'], 'Database': ['alloydb', 'cloud-bigtable', 'cloud-firestore', 'cloud-memorystore', 'cloud-sql', 'cloud-sql-insights', 'cloud-spanner'], 'Data Analytics': ['bigquery', 'bigquery-bi-engine', 'bigquery-data-transfer-service', 'bigquery-dts', 'bigquery-gis', 'bigquery-ml', 'cloud-composer', 'cloud-data-fusion', 'connected-sheets', 'data-catalog', 'data-studio', 'dataflow', 'dataplex', 'dataprep-by-trifacta', 'dataproc', 'datastream', 'looker', 'public-datasets'], 'AI/ML': ['automl', 'cloud-tpu', 'cloud-translation', 'cloud-vision', 'contact-center-ai', 'deep-learning-containers', 'deep-learning-vm-images', 'dialogflow', 'document-ai', 'speech-to-text', 'talent-solutions', 'text-to-speech', 'vertex-ai', 'vertex-ai-data-labeling', 'vertex-ai-edge-manager', 'vertex-ai-feature-store', 'vertex-ai-matching-engine', 'vertex-ai-model-monitoring', 'vertex-ai-pipelines', 'vertex-ai-predictions', 'vertex-ai-tensorboard', 'vertex-ai-training', 'vertex-ai-vizier', 'vertex-ai-workbench', 'vertex-explainable-ai', 'vertex-ml-metadata', 'video-intelligence-api'], 'Networking': ['anthos-service-mesh', 'carrier-peering', 'cloud-armor', 'cloud-cdn', 'cloud-dns', 'cloud-domains', 'cloud-ids', 'cloud-load-balancing', 'cloud-nat', 'cloud-router', 'cloud-vpn', 'dedicated-interconnect', 'direct-peering', 'media-cdn', 'network-connectivity-center', 'network-intelligence-center', 'network-service-tiers', 'network-telemetry', 'packet-mirroring', 'partner-interconnect', 'private-service-connect', 'service-directory', 'traffic-director', 'transcoder-api', 'virtual-private-cloud', 'vpc-service-controls'], 'DevOps CI/CD': ['artifact-registry', 'cloud-build', 'cloud-deploy', 'cloud-source-repositories', 'container-analysis', 'container-registry'], 'Identity and Security': ['access-context-manager', 'access-transparency', 'assured-workloads', 'beyondcorp-enterprise', 'binary-authorization', 'certificate-authority-service', 'chronicle', 'cloud-asset-inventory', 'cloud-audit-logs', 'cloud-data-loss-prevention', 'cloud-ekm', 'cloud-hsm', 'cloud-iam', 'cloud-identity', 'cloud-identity-aware-proxy', 'cloud-kms', 'confidential-computing', 'context-aware-access', 'event-threat-detection', 'identity-platform', 'managed-service-for-microsoft-active-directory', 'resource-manager', 'risk-manager', 'secret-manager', 'security-command-center', 'security-key-enforcement', 'shielded-vms', 'titan-security-key', 'vpc-service-controls', 'virustotal', 'web-security-scanner', 'recaptcha-enterprise'], 'Management Tools': ['cloud-apis', 'cloud-billing', 'cloud-billing-api', 'cloud-console', 'cloud-deployment-manager', 'cloud-mobile-app', 'private-catalog', 'vm-manager'], 'Application Integration': ['cloud-scheduler', 'cloud-tasks', 'eventarc', 'pubsub', 'workflows'], 'Gaming': ['google-cloud-game-servers'], 'Mobile (Firebase)': ['cloud-firestore', 'cloud-functions-for-firebase', 'cloud-storage-for-firebase', 'crashlytics', 'firebase-ab-testing', 'firebase-app-distribution', 'firebase-authentication', 'firebase-cloud-messaging', 'firebase-dynamic-links', 'firebase-extensions', 'firebase-hosting', 'firebase-in-app-messaging', 'firebase-performance-monitoring', 'firebase-predictions', 'firebase-realtime-database', 'firebase-remote-config', 'firebase-test-lab', 'google-analytics-for-firebase', 'ml-kit-for-firebase'], 'Google Workspace': ['amp-for-email', 'admin-sdk', 'apps-script', 'calendar-api', 'classroom-api', 'cloud-search', 'docs-api', 'drive-api', 'drive-activity-api', 'drive-picker', 'email-markup', 'gmail-api', 'google-chat-api', 'google-workspace-add-ons', 'google-workspace-marketplace', 'people-api', 'sheets-api', 'slides-api', 'task-api', 'vault-api'], 'Google Maps Platform': ['directions-api', 'distance-matrix-api', 'geocoding-api', 'geolocation-api', 'maps-embed-api', 'maps-javascript-api', 'maps-sdk-for-android', 'maps-sdk-for-ios', 'maps-sdk-for-unity', 'maps-static-api', 'maps-urls', 'places-api', 'places-library-maps-js-api', 'places-sdk-for-android', 'places-sdk-for-ios', 'roads-api', 'street-view-service', 'street-view-static-api', 'time-zone-api'], 'Hybrid and Multi-cloud': ['anthos', 'anthos-clusters', 'anthos-config-management', 'anthos-service-mesh', 'apigee-api-management', 'cloud-run-for-anthos', 'google-cloud-marketplace-for-anthos', 'migrate-for-anthos', 'operations-suite', 'traffic-director'], 'API Platform and Ecosystems': ['api-analytics', 'api-gateway', 'api-monetization', 'apigee-api-platform', 'apigee-healthcare-apix', 'apigee-hybrid', 'apigee-sense', 'appsheet', 'cloud-endpoints', 'developer-portal', 'google-cloud-marketplace'], 'Healthcare': ['apigee-healthcare-apix', 'cloud-healthcare-api', 'cloud-life-sciences', 'healthcare-natural-language-ai'], 'Operations and Monitoring': ['cloud-logging', 'cloud-monitoring', 'cloud-profiler', 'cloud-trace', 'error-reporting'], 'Developer Tools': ['app-engine-plugins', 'duet-ai', 'cloud-code', 'cloud-code-for-intellij', 'cloud-code-for-vs-code', 'cloud-sdk', 'cloud-shell', 'cloud-tools-for-eclipse', 'cloud-tools-for-visual-studio'], 'Retail': ['recommendations-ai', 'vision-product-search', 'visual-inspection-ai'], 'Migration to Google Cloud': ['bigquery-data-transfer-service', 'cloud-data-transfer', 'cloud-foundation-toolkit', 'database-migration-service', 'kf', 'migrate-for-anthos', 'migrate-for-anthos-and-gke', 'migrate-for-compute-engine', 'migrate-from-amazon-redshift', 'migrate-from-teradata', 'storage-transfer-service', 'transfer-appliance']}\n",
      "['Compute', 'Storage', 'Database', 'Data Analytics', 'AI/ML', 'Networking', 'DevOps CI/CD', 'Identity and Security', 'Management Tools', 'Application Integration', 'Gaming', 'Mobile (Firebase)', 'Google Workspace', 'Google Maps Platform', 'Hybrid and Multi-cloud', 'API Platform and Ecosystems', 'Healthcare', 'Operations and Monitoring', 'Developer Tools', 'Retail', 'Migration to Google Cloud']\n"
     ]
    }
   ],
   "source": [
    "res = requests.get(urljoin(BASE,\"service/\"))\n",
    "# print(res.text)\n",
    "\n",
    "service_data = json.loads(res.text)\n",
    "print(service_data[\"cloud-run\"])\n",
    "\n",
    "with open(\"../static/category_map.json\", encoding=\"utf-8\") as f:\n",
    "    category_map = json.loads(f.read())\n",
    "\n",
    "with open(\"../static/category_list.json\", encoding=\"utf-8\") as f:\n",
    "    category_list = json.loads(f.read())\n",
    "\n",
    "print(category_map)\n",
    "#category_map = {key.replace(r\"/\", r\" & \"): value for key, value in category_map.items()}\n",
    "print(category_map)\n",
    "print(category_list)\n"
   ]
  },
  {
   "cell_type": "code",
   "execution_count": 26,
   "metadata": {},
   "outputs": [
    {
     "name": "stdout",
     "output_type": "stream",
     "text": [
      "[[<Aggregation alias=field_1, value=0, readtime=2024-04-04 23:27:03.730687+00:00>]]\n"
     ]
    }
   ],
   "source": [
    "\n",
    "services_ref = db.collection(\"services\")\n",
    "\n",
    "q = services_ref.count()\n",
    "#q??\n",
    "print(q.get())\n",
    "\n",
    "docs = services_ref.stream()\n",
    "\n",
    "for i, doc in enumerate(docs):\n",
    "    print(f\"{doc.id} => {doc.to_dict()}\")\n",
    "    if i > 5: break"
   ]
  },
  {
   "cell_type": "code",
   "execution_count": 27,
   "metadata": {},
   "outputs": [],
   "source": [
    "# insert/update service data\n",
    "for key, data in service_data.items():\n",
    "    doc_ref = services_ref.document(key)\n",
    "    doc_ref.set(data)"
   ]
  },
  {
   "cell_type": "code",
   "execution_count": 28,
   "metadata": {},
   "outputs": [],
   "source": [
    "# add patterns\n",
    "\n",
    "res = requests.get(urljoin(BASE,\"pattern/\"))\n",
    "# print(res.text)\n",
    "pattern_data = json.loads(res.text)\n",
    "\n",
    "for pattern in pattern_data.values():\n",
    "    # print(pattern)\n",
    "    for checkpoint in pattern[\"checkpoints\"]:\n",
    "        for service in checkpoint[\"satisfying_services\"]:\n",
    "            if not ((service in service_data) or (service in {\"*\"})):\n",
    "                print (f\"'{service}' not found. Referenced in checkpoint: {checkpoint}\")\n",
    "\n",
    "patterns_ref = db.collection(\"patterns\")\n",
    "for data in pattern_data.values():\n",
    "    doc_ref = patterns_ref.document(data[\"slug\"])\n",
    "    doc_ref.set(data)\n"
   ]
  },
  {
   "cell_type": "code",
   "execution_count": 29,
   "metadata": {},
   "outputs": [
    {
     "name": "stdout",
     "output_type": "stream",
     "text": [
      "[[<Aggregation alias=field_1, value=0, readtime=2024-04-04 23:27:15.657121+00:00>]]\n"
     ]
    }
   ],
   "source": [
    "\n",
    "category_ref = db.collection(\"services_by_category\")\n",
    "\n",
    "q = category_ref.count()\n",
    "#q??\n",
    "print(q.get())\n",
    "\n",
    "docs = category_ref.stream()\n",
    "\n",
    "for i, doc in enumerate(docs):\n",
    "    print(f\"{doc.id} => {doc.to_dict()}\")\n",
    "    if i > 5: break"
   ]
  },
  {
   "cell_type": "code",
   "execution_count": 30,
   "metadata": {},
   "outputs": [
    {
     "name": "stdout",
     "output_type": "stream",
     "text": [
      "train_services: {'compute-engine', 'vpc-network', 'cloud-build', 'cloud-run', 'workflows', 'cloud-memorystore', 'secret-manager', 'pubsub', 'sql', 'bigquery', 'cloud-deploy', 'cloud-scheduler', 'cloud-firestore', 'iam', 'cloud-storage', 'artifact-registry', 'eventarc', 'cloud-functions', 'kubernetes', 'cloud-tasks'}\n",
      "pattern_services: {'cloud-sql-insights', 'cloud-functions', 'cloud-spanner', 'cloud-memorystore', 'cloud-deploy', 'alloydb', 'app-engine', 'compute-engine', 'cloud-build', 'cloud-bigtable', 'gke', 'cloud-firestore', 'cloud-sql', 'cloud-run', 'artifact-registry'}\n",
      "missing: {'workflows', 'eventarc', 'cloud-tasks', 'secret-manager', 'pubsub', 'iam', 'vpc-network', 'kubernetes', 'cloud-scheduler', 'sql', 'cloud-storage', 'bigquery'}\n",
      "{'services': [{'slug': 'cloud-functions', 'name': 'Cloud Functions', 'description': 'Event-driven serverless functions', 'doc_url': 'https://cloud.google.com/functions/docs/'}, {'slug': 'app-engine', 'name': 'App Engine', 'description': 'Managed app platform', 'doc_url': 'https://cloud.google.com/appengine/docs/'}, {'slug': 'cloud-run', 'name': 'Cloud Run', 'description': 'Serverless for containerized applications', 'doc_url': 'https://cloud.google.com/run/docs'}, {'slug': 'gke', 'name': 'Kubernetes Engine', 'description': 'Managed Kubernetes / containers', 'doc_url': 'https://cloud.google.com/kubernetes-engine/docs/'}, {'slug': 'compute-engine', 'name': 'Compute Engine', 'description': 'VMs, GPUs, TPUs, Disks', 'doc_url': 'https://cloud.google.com/compute/docs/'}], 'name': 'Compute'}\n",
      "21\n",
      "8\n"
     ]
    }
   ],
   "source": [
    " # map category data\n",
    "\n",
    "train_services = set([\n",
    "\"bigquery\", \"artifact-registry\", \"kubernetes\", \"eventarc\", \"compute-engine\", \n",
    "\"cloud-functions\", \"sql\", \"cloud-build\",\"workflows\", \"cloud-run\", \n",
    "\"secret-manager\", \"cloud-firestore\", \"cloud-storage\", \"cloud-tasks\", \n",
    "\"cloud-scheduler\", \"pubsub\", \"iam\", \"vpc-network\", \"cloud-deploy\", \"cloud-memorystore\"])\n",
    "print(f\"train_services: {train_services}\")\n",
    "\n",
    "pattern_services = set()\n",
    "for pattern in pattern_data.values():\n",
    "    # print(pattern)\n",
    "    for checkpoint in pattern[\"checkpoints\"]:\n",
    "        for service in checkpoint[\"satisfying_services\"]:\n",
    "            # print(service)\n",
    "            pattern_services.add(service)\n",
    "print(f\"pattern_services: {pattern_services}\")\n",
    "print(f\"missing: {train_services.difference(pattern_services)}\")\n",
    "\n",
    "union_services = train_services.union(pattern_services)\n",
    "categories = {}\n",
    "for cat, services in category_map.items():\n",
    "    cat_slug = cat.lower()\n",
    "    cat_slug = cat_slug.replace(\" \", \"-\")\n",
    "    cat_slug = cat_slug.replace(\"/\", \"-\")\n",
    "    #print({\"services\": [service_data[slug] for slug in services]})\n",
    "    categories[cat_slug] = {\"services\": [service_data[slug] for slug in services if slug in union_services]}\n",
    "    categories[cat_slug][\"name\"] = cat\n",
    "    #print(cat, services)\n",
    "\n",
    "print(categories[\"compute\"])\n",
    "print(len(categories))\n",
    "\n",
    "to_delete = []\n",
    "for cat, data in categories.items():\n",
    "    if len(data[\"services\"]) == 0:\n",
    "        to_delete.append(cat)\n",
    "for key in to_delete:\n",
    "    del(categories[key])\n",
    "print(len(categories))\n"
   ]
  },
  {
   "cell_type": "code",
   "execution_count": 31,
   "metadata": {},
   "outputs": [],
   "source": [
    "# insert/update service_by_category data\n",
    "for key, data in categories.items():\n",
    "    doc_ref = category_ref.document(key)\n",
    "    #print(doc_ref)\n",
    "    #print(data)\n",
    "    doc_ref.set(data)"
   ]
  },
  {
   "cell_type": "code",
   "execution_count": 32,
   "metadata": {},
   "outputs": [],
   "source": [
    "# \"global\" collection now init via `init_global.py` script\n"
   ]
  },
  {
   "cell_type": "code",
   "execution_count": 33,
   "metadata": {},
   "outputs": [
    {
     "name": "stdout",
     "output_type": "stream",
     "text": [
      "access-context-manager => {'slug': 'access-context-manager', 'description': 'Fine-grained, attribute based access-control', 'doc_url': 'https://cloud.google.com/access-context-manager/docs', 'name': 'Access Context Manager'}\n",
      "access-transparency => {'slug': 'access-transparency', 'description': 'Audit cloud provider access', 'doc_url': 'https://cloud.google.com/cloud-provider-access-management/access-transparency/docs/overview', 'name': 'Access Transparency'}\n",
      "admin-sdk => {'slug': 'admin-sdk', 'description': 'Manage Google Workspace resources', 'doc_url': 'https://developers.google.com/apps-script/advanced/admin-sdk-directory', 'name': 'Admin SDK'}\n",
      "alloydb => {'slug': 'alloydb', 'description': 'Scalable & performant PostgreSQL - compatible DB', 'doc_url': 'https://cloud.google.com/alloydb/docs', 'name': 'AlloyDB'}\n",
      "amp-for-email => {'slug': 'amp-for-email', 'description': 'Dynamic interactive email', 'doc_url': 'https://developers.google.com/apps-script/add-ons/gmail', 'name': 'AMP for Email'}\n",
      "----\n",
      "pattern_a => {'slug': 'pattern_a', 'description': 'Create and deploy a simple virtual machine in Google Cloud.', 'checkpoints': [{'slug': 'compute', 'description': 'Select a service that allows you to create and run virtual machines on Google Cloud.', 'satisfying_services': ['app-engine', 'gke', 'compute-engine'], 'name': 'Compute'}], 'complexity': 'low_complexity', 'name': 'Deploy a simple VM server'}\n",
      "pattern_b => {'slug': 'pattern_b', 'description': 'Create a pattern from the Google Cloud Platform resources available that creates and deploys a container image that displays contents of a seeded database.', 'checkpoints': [{'slug': 'database', 'description': 'Choose a resource where the can container retrieve stored data to display.', 'satisfying_services': ['alloydb', 'cloud-bigtable', 'cloud-firestore', 'cloud-memorystore', 'cloud-sql', 'cloud-sql-insights', 'cloud-spanner'], 'name': 'Database'}, {'slug': 'compute', 'description': 'Select a computing resource where we will display database data.', 'satisfying_services': ['app-engine', 'cloud-functions', 'cloud-run', 'gke', 'compute-engine'], 'name': 'Compute'}, {'slug': 'devops', 'description': 'Select a resource that can create a container image', 'satisfying_services': ['cloud-build'], 'name': 'Build Image'}, {'slug': 'devops', 'description': 'Select a resource where the built container image can be stored.', 'satisfying_services': ['artifact-registry'], 'name': 'Store Image'}], 'complexity': 'medium_complexity', 'name': 'Build & deploy a container image that displays database contents'}\n",
      "pattern_c => {'slug': 'pattern_c', 'description': 'Choose Google Cloud Platform services from the available blocks which could be used to host a website and database. Example: dynamic blog, ecommerce site, etc.', 'checkpoints': [{'slug': 'website', 'description': 'Some way to serve the website to the internet', 'satisfying_services': ['app-engine', 'cloud-functions', 'cloud-run', 'gke', 'compute-engine'], 'name': 'Website'}, {'slug': 'database', 'description': 'Select the database that will store website data.', 'satisfying_services': ['alloydb', 'cloud-bigtable', 'cloud-firestore', 'cloud-memorystore', 'cloud-sql', 'cloud-sql-insights', 'cloud-spanner'], 'name': 'Database'}], 'complexity': 'medium_complexity', 'name': 'Host a database backed website'}\n",
      "pattern_d => {'slug': 'pattern_d', 'description': 'Create a pattern from the Google Cloud Platform resources available that sets up a basic CI/CD (continuous integration/ continuous deployment) pipeline.', 'checkpoints': [{'slug': 'build_image', 'description': 'Select a resource to create your build image.', 'satisfying_services': ['cloud-build'], 'name': 'Build Image'}, {'slug': 'store_image', 'description': 'Select a resource to store your built images', 'satisfying_services': ['artifact-registry'], 'name': 'Store built image'}, {'slug': 'compute', 'description': 'Select a service that allows you to create and run virtual machines on Google Cloud.', 'satisfying_services': ['app-engine', 'gke', 'compute-engine'], 'name': 'Compute'}, {'slug': 'deploy', 'description': 'Select a resource that allows you to create a streamlined continuous delivery with multiple deploy targets (staging, canary, prod).', 'satisfying_services': ['cloud-deploy'], 'name': 'Deploy targets'}], 'complexity': 'high_complexity', 'name': 'Build a CI/CD pipeline'}\n"
     ]
    }
   ],
   "source": [
    "docs = services_ref.stream()\n",
    "for i, doc in enumerate(docs):\n",
    "    if i >= 5: break\n",
    "    print(f\"{doc.id} => {doc.to_dict()}\")\n",
    "print(\"----\")\n",
    "    \n",
    "docs = patterns_ref.stream()\n",
    "for i, doc in enumerate(docs):\n",
    "    if i >= 5: break\n",
    "    print(f\"{doc.id} => {doc.to_dict()}\")\n",
    "\n"
   ]
  },
  {
   "cell_type": "code",
   "execution_count": null,
   "metadata": {},
   "outputs": [],
   "source": []
  }
 ],
 "metadata": {
  "kernelspec": {
   "display_name": "Python 3",
   "language": "python",
   "name": "python3"
  },
  "language_info": {
   "codemirror_mode": {
    "name": "ipython",
    "version": 3
   },
   "file_extension": ".py",
   "mimetype": "text/x-python",
   "name": "python",
   "nbconvert_exporter": "python",
   "pygments_lexer": "ipython3",
   "version": "3.10.7"
  }
 },
 "nbformat": 4,
 "nbformat_minor": 2
}
