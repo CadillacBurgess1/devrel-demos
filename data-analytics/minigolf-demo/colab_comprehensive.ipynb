{
  "cells": [
    {
      "cell_type": "code",
      "execution_count": null,
      "id": "82d78978",
      "metadata": {},
      "outputs": [],
      "source": [
        "# Copyright 2024 Google LLC\n",
        "\n",
        "# Licensed under the Apache License, Version 2.0 (the \"License\");\n",
        "# you may not use this file except in compliance with the License.\n",
        "# You may obtain a copy of the License at\n",
        "\n",
        "#     https://www.apache.org/licenses/LICENSE-2.0\n",
        "\n",
        "# Unless required by applicable law or agreed to in writing, software\n",
        "# distributed under the License is distributed on an \"AS IS\" BASIS,\n",
        "# WITHOUT WARRANTIES OR CONDITIONS OF ANY KIND, either express or implied.\n",
        "# See the License for the specific language governing permissions and\n",
        "# limitations under the License."
      ]
    },
    {
      "cell_type": "markdown",
      "id": "-1_xw_2cRBYH",
      "metadata": {
        "id": "-1_xw_2cRBYH"
      },
      "source": [
        "### Define Constants"
      ]
    },
    {
      "cell_type": "code",
      "execution_count": 33,
      "id": "pqbYCSY9OBuN",
      "metadata": {
        "executionInfo": {
          "elapsed": 71,
          "status": "ok",
          "timestamp": 1712341838506,
          "user": {
            "displayName": "",
            "userId": ""
          },
          "user_tz": 420
        },
        "id": "pqbYCSY9OBuN"
      },
      "outputs": [],
      "source": [
        "USER_ID = \"GX010058\"  # @param {type:\"string\"}\n",
        "DEMO_PROJECT = \"next-2024-golf-demo-01\"\n",
        "BIGQUERY_DATASET = \"minigolf\"\n",
        "BIGQUERY_TRACKING_TABLE = \"tracking\"\n",
        "BIGQUERY_SHOT_NUM_TABLE = \"shot_num\"\n",
        "GS_BUCKET = \"gs://test_golf\""
      ]
    },
    {
      "cell_type": "markdown",
      "id": "V3Ij8Ar6W3sr",
      "metadata": {
        "id": "V3Ij8Ar6W3sr"
      },
      "source": [
        "### Import necessary Libraries"
      ]
    },
    {
      "cell_type": "code",
      "execution_count": 34,
      "id": "z781yk-OW6F_",
      "metadata": {
        "executionInfo": {
          "elapsed": 68,
          "status": "ok",
          "timestamp": 1712341840071,
          "user": {
            "displayName": "",
            "userId": ""
          },
          "user_tz": 420
        },
        "id": "z781yk-OW6F_"
      },
      "outputs": [],
      "source": [
        "import pandas as pd\n",
        "from google.cloud import bigquery\n",
        "import seaborn as sns\n",
        "\n",
        "import os\n",
        "\n",
        "from matplotlib.patches import Circle\n",
        "import matplotlib.pyplot as plt\n",
        "import vertexai\n",
        "from vertexai.generative_models import GenerativeModel, Part\n",
        "import vertexai.preview.generative_models as generative_models\n",
        "from IPython.display import display, Markdown"
      ]
    },
    {
      "cell_type": "markdown",
      "id": "iIgaoZL185OG",
      "metadata": {
        "id": "iIgaoZL185OG"
      },
      "source": [
        "### Unveiling the Mini-Golf Stats\n",
        "\n",
        "Now, let's dive into the numbers behind the swings! This section analyzes the performance data from all players, giving us insights into how everyone fared on the mini-golf course.\n",
        "\n",
        "We calculate some key statistics:\n",
        "\n",
        "* **Average Number of Shots**: This tells us the average number of shots taken by all players. It gives us a general idea of the course's difficulty.\n",
        "* **Median Number of Shots**: This represents the middle value when all players' shot counts are ordered. It's less affected by outliers (extremely high or low scores) than the average.\n",
        "* **Percentile Rank**: This shows where you stand compared to all other players.\n",
        "\n",
        "Finally, we present a **bar chart** visualizing the distribution of shots taken by all players. This gives us a quick overview of how many players took a certain number of shots.\n",
        "\n",
        "So, take a look at the stats and see how you stack up against the competition!"
      ]
    },
    {
      "cell_type": "code",
      "execution_count": null,
      "id": "ujTQgrJRmfle",
      "metadata": {
        "id": "ujTQgrJRmfle"
      },
      "outputs": [],
      "source": [
        "# Configure BigQuery client\n",
        "client = bigquery.Client()\n",
        "query = f\"\"\"\n",
        "SELECT *\n",
        "FROM `{DEMO_PROJECT}.{BIGQUERY_DATASET}.{BIGQUERY_SHOT_NUM_TABLE}`\n",
        "\"\"\"\n",
        "\n",
        "df = client.query(query).to_dataframe()\n",
        "user_shot_counts = df.groupby('user_id')['shot_number'].count()\n",
        "shot_number_freq = user_shot_counts.value_counts()\n",
        "\n",
        "# Selected user's number of shots\n",
        "user_shots = df[df['user_id'] == USER_ID]['shot_number'].count()\n",
        "average_shots_per_user = user_shot_counts.mean()\n",
        "median_shots_per_user = user_shot_counts.median()\n",
        "percentile_rank = (\n",
        "    df[df['user_id'] == USER_ID]['shot_number'].count() / len(df)\n",
        "    ) * 100\n",
        "\n",
        "display(Markdown(f\"### User {USER_ID}'s number of shots: {user_shots}\"))\n",
        "display(Markdown(f\"### Average number of shots: {average_shots_per_user:.2f}\"))\n",
        "display(Markdown(f\"### Median number of shots: {median_shots_per_user:.2f}\"))\n",
        "display(Markdown(f\"### User {USER_ID} is in the top {percentile_rank:.2f}% \\\n",
        "                  among all users based on the number of shots.\"))\n",
        "\n",
        "# Plot a bar chart\n",
        "plt.bar(shot_number_freq.index, shot_number_freq.values, color='#4285F4')\n",
        "plt.xlabel('Number of Shots')\n",
        "plt.ylabel('Number of Users')\n",
        "plt.title('Distribution of Number of Shots per User')\n",
        "plt.show()\n"
      ]
    },
    {
      "cell_type": "markdown",
      "id": "J33U5kj03Ky4",
      "metadata": {
        "id": "J33U5kj03Ky4"
      },
      "source": [
        "### Visualizing Your Mini-Golf Journey\n",
        "\n",
        "This graph provides a bird's-eye view of your mini-golf adventure, showing exactly how the ball traveled across the course. Each cluster of colorful dots represents a specific moment in time – the spot where the ball came to rest after each shot. It's like seeing a snapshot of your game, frozen in time!\n",
        "\n",
        "The colors help us follow the sequence of your shots. The first shot is represented by one color, the second shot by another, and so on. This allows us to easily trace the progression of your game from start to finish.\n",
        "\n",
        "So, take a moment to explore the graph and relive your mini-golf experience. It's a visual representation of your skill and the exciting journey of that little white ball!\n",
        "\n"
      ]
    },
    {
      "cell_type": "code",
      "execution_count": null,
      "id": "tn_z4A681DAz",
      "metadata": {
        "id": "tn_z4A681DAz"
      },
      "outputs": [],
      "source": [
        "client = bigquery.Client()\n",
        "query = f\"\"\"\n",
        "SELECT * FROM `{DEMO_PROJECT}.{BIGQUERY_DATASET}.{BIGQUERY_TRACKING_TABLE}`\n",
        "WHERE user_id = \"{USER_ID}\"\n",
        "\"\"\"\n",
        "\n",
        "df = client.query(query).to_dataframe()\n",
        "df['shot_number_str'] = df['shot_number'].astype(str)\n",
        "\n",
        "# Pre-defined position of the golf ball and the hole.\n",
        "BALL = (219, 605, 19, 17)\n",
        "HOLE = (1428, 568, 32, 26)\n",
        "\n",
        "# Calculate the center of the golf ball and hole based on width and height\n",
        "ball_center = (BALL[0] + BALL[2] / 2, BALL[1] + BALL[3] / 2)\n",
        "hole_center = (HOLE[0] + HOLE[2] / 2, HOLE[1] + HOLE[3] / 2)\n",
        "\n",
        "image_uri = \"gs://test_golf/output_image.jpg\"\n",
        "local_image_path = '/tmp/downloaded_image.jpg'\n",
        "os.system(f'gsutil cp {image_uri} {local_image_path}')\n",
        "img = plt.imread(local_image_path)\n",
        "\n",
        "fig, ax = plt.subplots(figsize=(15, 7))\n",
        "color_palette = sns.color_palette(\n",
        "    'tab10',\n",
        "    n_colors=len(df['shot_number_str'].unique())\n",
        ")\n",
        "\n",
        "unique_user_ids = df['user_id'].unique()\n",
        "sns.scatterplot(\n",
        "    data=df, x='x', y='y', hue='shot_number_str',\n",
        "    legend=False, palette=color_palette, size=1, ax=ax\n",
        ")\n",
        "\n",
        "# Create circles for the golf ball and hole\n",
        "golf_ball = Circle(xy=ball_center, radius=10, color='white')\n",
        "hole = Circle(xy=hole_center, radius=10, color='white')\n",
        "\n",
        "plt.gca().add_patch(golf_ball)\n",
        "plt.gca().add_patch(hole)\n",
        "\n",
        "# invert y-axis\n",
        "plt.gca().invert_yaxis()\n",
        "\n",
        "ax.imshow(img)\n",
        "plt.show()\n"
      ]
    },
    {
      "cell_type": "markdown",
      "id": "CAM0FCRf3Sqx",
      "metadata": {
        "id": "CAM0FCRf3Sqx"
      },
      "source": [
        "### Gemini: The AI Sportscaster\n",
        "\n",
        "Imagine Gemini as a super-smart assistant who watches your mini-golf game. It can't see you swing the club, but it follows the ball using a video camera, acting like a data detective. Gemini analyzes the video frame-by-frame, tracking the ball's path and how close it gets to the hole.\n",
        "\n",
        "Once Gemini understands the game, it transforms into a real announcer, describing each shot with excitement and flair. But instead of a human voice, it uses its artificial intelligence to generate the commentary. This is possible because Gemini has been trained on a massive amount of sportscasting data, learning the language, style, and energy that announcers bring to the game.\n",
        "\n",
        "The best part? Gemini does all this in real-time! As soon as you finish a hole, it instantly generates commentary, providing insights without any manual effort. It's like having a combination of a data analyst and a sports announcer, all powered by AI. Gemini takes the \"what\" (video data) and turns it into the \"how\" (play-by-play) using its knowledge of sportscasting gleaned from vast amounts of training data.\n",
        "\n",
        "So, whether you're a guest enjoying the game or a presenter explaining the technology, think of Gemini as your AI sportscaster, bringing a unique and insightful perspective to the mini-golf experience!\n"
      ]
    },
    {
      "cell_type": "code",
      "execution_count": null,
      "id": "5RvCZieY1S4h",
      "metadata": {
        "id": "5RvCZieY1S4h"
      },
      "outputs": [],
      "source": [
        "URI = f\"{GS_BUCKET}/{USER_ID}.MP4\"\n",
        "VIDEO = Part.from_uri(uri=URI, mime_type=\"video/mp4\")\n",
        "vertexai.init(project=DEMO_PROJECT, location=\"us-central1\")\n",
        "model = GenerativeModel(\"gemini-1.5-pro-preview-0215\")\n",
        "query = f\"\"\"\n",
        "SELECT * FROM `{DEMO_PROJECT}.{BIGQUERY_DATASET}.{BIGQUERY_SHOT_NUM_TABLE}`\n",
        "WHERE user_id = \"{USER_ID}\"\n",
        "\"\"\"\n",
        "\n",
        "df = client.query(query).to_dataframe()\n",
        "\n",
        "PRE_DEFINED_TEXT = \"\"\"You are a professional golf announcer and you must broadcast the match a formal and informative tone. You should use the following context.\n",
        "- The match is 'Google Cloud Next - Minigolf Championship final', and the venue is Mandalay Bay, Las Vegas.\n",
        "- The competitor already completed the game and if the player complete this hole within three shots, the player wins.\n",
        "- If the hole is completed over four shots, THE COMPETITOR WINS.\n",
        "- Even though the competitor wins, you must broadcast the game until the player finishes the last shot.\n",
        "- You should not mention anything about the players' appearances or personal lives.\n",
        "- The broadcast must be done in colloquial language and no additional text other than the announcer's comments (e.g., cheers from the audience must not be included).\n",
        "- The course is a rectangle measuring 7 feet by 20 feet, and there are no obstacles or slopes on the course.\n",
        "- The video is recorded in 60 fps.\n",
        "- Describe each shots in detail.\n",
        "\"\"\"\n",
        "\n",
        "\n",
        "def generate_commentary(df: pd.DataFrame) -> str:\n",
        "    shot_details = \"\"\n",
        "    for _, row in df.iterrows():\n",
        "        shot_details += f\"- Shot {row['shot_number']} stopped \\\n",
        "         {row['distance']:.2f} pixels from the hole\\n\"\n",
        "\n",
        "    # Check if last shot distance is less than 50 (made a hole-in)\n",
        "    result = \"didn't make\" if df['distance'].iloc[-1] > 50 else \"made\"\n",
        "\n",
        "    commentary = f\"\"\"\n",
        "    - Here's the analytics of each shot extracted from the video. Use it as a reference:\n",
        "        {shot_details}\n",
        "    - The ball {result.upper()} the hole after the final shot.\n",
        "    - The measurement of the distance is in pixels. The distance is measured from the center of the ball to the center of the hole.\n",
        "    \"\"\"\n",
        "    return commentary\n",
        "\n",
        "def generate():\n",
        "    vertexai.init(project=\"next-2024-golf-demo-01\", location=\"us-central1\")\n",
        "    model = GenerativeModel(\"gemini-1.5-pro-preview-0215\")\n",
        "    responses = model.generate_content(\n",
        "        [VIDEO, PRE_DEFINED_TEXT, generate_commentary(df)],\n",
        "        generation_config=generation_config,\n",
        "        safety_settings=safety_settings,\n",
        "        stream=False,\n",
        "    )\n",
        "    display(Markdown((responses.text)))\n",
        "\n",
        "\n",
        "generation_config = {\n",
        "    \"max_output_tokens\": 8192,\n",
        "    \"temperature\": 2,\n",
        "    \"top_p\": 0.4,\n",
        "}\n",
        "\n",
        "safety_settings = {\n",
        "    generative_models.HarmCategory.HARM_CATEGORY_HATE_SPEECH: generative_models.HarmBlockThreshold.BLOCK_MEDIUM_AND_ABOVE,\n",
        "    generative_models.HarmCategory.HARM_CATEGORY_DANGEROUS_CONTENT: generative_models.HarmBlockThreshold.BLOCK_MEDIUM_AND_ABOVE,\n",
        "    generative_models.HarmCategory.HARM_CATEGORY_SEXUALLY_EXPLICIT: generative_models.HarmBlockThreshold.BLOCK_MEDIUM_AND_ABOVE,\n",
        "    generative_models.HarmCategory.HARM_CATEGORY_HARASSMENT: generative_models.HarmBlockThreshold.BLOCK_MEDIUM_AND_ABOVE,\n",
        "}\n",
        "\n",
        "generate()\n"
      ]
    },
    {
      "cell_type": "markdown",
      "id": "_GIj_FAhYYPD",
      "metadata": {
        "id": "_GIj_FAhYYPD"
      },
      "source": [
        "### Data Privacy and Deletion:\n",
        "\n",
        "To protect your privacy, the video of your mini-golf game will now be deleted from cloud storage. The raw footage was only used to analyze ball positions for generating commentary and insights.\n",
        "\n",
        "Run the next code cell to immediately and permanently delete the video.\n",
        "\n",
        "Rest assured, your privacy is our top priority. Only the calculated data (ball and hole positions) will be retained for further analysis.\n",
        "\n"
      ]
    },
    {
      "cell_type": "code",
      "execution_count": 22,
      "id": "HXqetD9wDpe7",
      "metadata": {
        "colab": {
          "base_uri": "https://localhost:8080/"
        },
        "executionInfo": {
          "elapsed": 2524,
          "status": "ok",
          "timestamp": 1712341291936,
          "user": {
            "displayName": "",
            "userId": ""
          },
          "user_tz": 420
        },
        "id": "HXqetD9wDpe7",
        "outputId": "32f0d24b-d944-4f58-9afc-c238750d4aee"
      },
      "outputs": [
        {
          "name": "stdout",
          "output_type": "stream",
          "text": [
            "Removing gs://test_golf/GX010055.MP4...\n",
            "/ [1 objects]                                                                   \r\n",
            "Operation completed over 1 objects.                                              \n"
          ]
        }
      ],
      "source": [
        "# Execute the gsutil command with the parameterized path\n",
        "! gsutil rm {URI}"
      ]
    },
    {
      "cell_type": "code",
      "execution_count": 22,
      "id": "lu3bviRfZyTB",
      "metadata": {
        "executionInfo": {
          "elapsed": 2,
          "status": "ok",
          "timestamp": 1712341291936,
          "user": {
            "displayName": "",
            "userId": ""
          },
          "user_tz": 420
        },
        "id": "lu3bviRfZyTB"
      },
      "outputs": [],
      "source": []
    }
  ],
  "metadata": {
    "colab": {
      "name": "Comprehensive",
      "provenance": []
    },
    "kernelspec": {
      "display_name": "Python 3",
      "language": "python",
      "name": "python3"
    },
    "language_info": {
      "codemirror_mode": {
        "name": "ipython",
        "version": 3
      },
      "file_extension": ".py",
      "mimetype": "text/x-python",
      "name": "python",
      "nbconvert_exporter": "python",
      "pygments_lexer": "ipython3",
      "version": "3.10.10"
    }
  },
  "nbformat": 4,
  "nbformat_minor": 5
}
